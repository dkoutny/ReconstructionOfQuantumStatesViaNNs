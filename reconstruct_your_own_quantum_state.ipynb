{
 "cells": [
  {
   "cell_type": "code",
   "execution_count": 1,
   "id": "fd76e035",
   "metadata": {},
   "outputs": [
    {
     "data": {
      "text/plain": [
       "'uncomment if you wish to run NN on CPU'"
      ]
     },
     "execution_count": 1,
     "metadata": {},
     "output_type": "execute_result"
    }
   ],
   "source": [
    "'''uncomment if you wish to run NN on CPU'''\n",
    "\n",
    "# import os\n",
    "# os.environ[\"CUDA_DEVICE_ORDER\"] = \"PCI_BUS_ID\"\n",
    "# os.environ[\"CUDA_VISIBLE_DEVICES\"] = \"\""
   ]
  },
  {
   "cell_type": "code",
   "execution_count": 2,
   "id": "4b72fcaf",
   "metadata": {},
   "outputs": [],
   "source": [
    "from numpy import *\n",
    "from numpy import linalg as la\n",
    "from scipy import linalg as sa\n",
    "from scipy import special as ss\n",
    "from scipy.special import factorial\n",
    "\n",
    "import matplotlib.pyplot as plt\n",
    "\n",
    "from scipy.optimize import minimize\n",
    "\n",
    "import time as time\n"
   ]
  },
  {
   "cell_type": "code",
   "execution_count": 3,
   "id": "ab72955d",
   "metadata": {},
   "outputs": [],
   "source": [
    "import keras\n",
    "from keras import optimizers\n",
    "from keras import initializers\n",
    "from keras.models import Sequential, load_model\n",
    "from keras.layers import Dense, Dropout, Activation, Conv2D, Flatten, Reshape, AveragePooling2D,UpSampling1D\n",
    "from keras.callbacks import ReduceLROnPlateau, ModelCheckpoint"
   ]
  },
  {
   "cell_type": "code",
   "execution_count": 121,
   "id": "33b71668",
   "metadata": {},
   "outputs": [],
   "source": [
    "def randompure(dim,n):\n",
    "    rpure = random.normal(0,1,[dim,n]) + 1j*random.normal(0,1,[dim,n])\n",
    "    rpure = rpure/la.norm(rpure,axis=0)\n",
    "    rhon = array([dot(rpure[:,[i]],rpure[:,[i]].conjugate().transpose())  for i in range(n)])\n",
    "    return rhon\n",
    "    \n",
    "def randomHS(dim):\n",
    "    matG = random.normal(0,1,[dim,dim]) + 1j*random.normal(0,1,[dim,dim])\n",
    "    rho = (matG@matG.transpose().conjugate())/trace(matG@matG.transpose().conjugate())\n",
    "    return rho\n",
    "\n",
    "def herbasis(dim):\n",
    "    pom1 = zeros([1,dim,dim])+1j*zeros([1,dim,dim])\n",
    "    pom1[0] = identity(dim)\n",
    "    arrays = [dot(transpose(pom1[0][[i]]),pom1[0][[i]]) for i in range(dim-1)]\n",
    "    pom = stack(arrays,axis=0)\n",
    "    her = concatenate((pom1,pom),axis=0)\n",
    "    arrays = [dot(transpose(her[0][[i]]),her[0][[j]])+dot(transpose(her[0][[j]]),her[0][[i]]) for i in range(dim) for j in range(i+1,dim)]\n",
    "    pom = stack(arrays,axis=0)\n",
    "    her = concatenate((her,pom),axis=0)\n",
    "    arrays = [-1j*dot(transpose(her[0][[i]]),her[0][[j]])+1j*dot(transpose(her[0][[j]]),her[0][[i]]) for i in range(dim) for j in range(i+1,dim)]\n",
    "    pom = stack(arrays,axis=0)\n",
    "    pom = concatenate((her,pom),axis=0)\n",
    "    return pom\n",
    "\n",
    "def gellmann(Q,dim):\n",
    "    q = zeros([dim**2,dim,dim])+1j*zeros([dim**2,dim,dim])\n",
    "    for i in range(dim**2):\n",
    "        v = Q[i]\n",
    "        for j in range(0,i):\n",
    "            v = v-trace(v@q[j])*q[j]\n",
    "        q[i] = v/sqrt(trace(v@v))\n",
    "    q[0] = identity(dim)\n",
    "    return q\n",
    "\n",
    "def blochFromRho(rho,A):\n",
    "    l = shape(A)[0]\n",
    "    return array([real(trace(rho@A[i])) for i in range(l)])\n",
    "\n",
    "def rhoFromBloch(blochP,A):\n",
    "    global dim\n",
    "    l = shape(A)[0]\n",
    "    return 1/dim*(identity(dim)+sum([blochP[i]*A[i] for i in range(l)],axis=0))\n",
    "\n",
    "def rhoFromBlochG(blochP,A):\n",
    "    global dim\n",
    "    l = shape(A)[0]\n",
    "    return 1/dim*(sum([blochP[i]*A[i] for i in range(l)],axis=0))\n",
    "\n",
    "def srm(m):\n",
    "    global dim\n",
    "    mstates = randompure(dim,m)\n",
    "    mstates = reshape(mstates, (m,dim,dim))\n",
    "    Sop = sum(mstates,axis=0)\n",
    "    Sop = sa.sqrtm(la.inv(Sop))\n",
    "    pom = [(Sop@mstates[i])@Sop for i in range(m)]\n",
    "    return pom\n",
    "\n",
    "def probdists(stav,povm):\n",
    "    l = shape(povm)[0]\n",
    "    probtrue = array([real(trace(stav@povm[i])) for i in range(l)])\n",
    "    probtrue = probtrue/sum(probtrue)\n",
    "    return probtrue\n",
    "\n",
    "def Cmat(pom,G):\n",
    "    global dim\n",
    "    l = shape(pom)[0]\n",
    "    matC = zeros((shape(pom)[0],dim**2))\n",
    "    for m in range(l):\n",
    "        for n in range(dim**2):\n",
    "            matC[m,n]=trace(pom[m]@G[n])\n",
    "    return 1/dim*matC\n",
    "\n",
    "def choFromRho(rho):\n",
    "    noStates = shape(rho)[0]\n",
    "    choVec = zeros((noStates,dim**2))\n",
    "    for n in range(noStates):\n",
    "        L = la.cholesky(rho[n])\n",
    "        imL = imag(L)\n",
    "        reL = real(L)\n",
    "        k_i = 0\n",
    "        for i in range(dim):\n",
    "            for j in range(0,i+1):\n",
    "                choVec[n,k_i] = reL[i,j]\n",
    "                k_i+=1\n",
    "\n",
    "        for i in range(1,dim):\n",
    "            for j in range(i):\n",
    "                choVec[n,k_i] = imL[i,j]\n",
    "                k_i+=1\n",
    "    return choVec\n",
    "\n",
    "def rhoFromCho(choVec):\n",
    "    rhoC = zeros((dim,dim),complex)\n",
    "    k_i=0\n",
    "    for i in range(dim):\n",
    "        for j in range(0,i+1):\n",
    "            rhoC[i,j] += choVec[k_i]\n",
    "            k_i+=1\n",
    "\n",
    "    for i in range(1,dim):\n",
    "        for j in range(i):\n",
    "            rhoC[i,j] += 1j*choVec[k_i]\n",
    "            k_i+=1\n",
    "    return dot(rhoC,rhoC.T.conj())/trace(dot(rhoC,rhoC.T.conj()))\n",
    "\n",
    "def MLalg(data, rhoinit,povm,epsilon,stop):\n",
    "    global dim\n",
    "    rho = rhoinit\n",
    "    trdist = 1\n",
    "    k = 0\n",
    "    pomS = zeros([dim,dim], complex)\n",
    "    for n in range(shape(povm)[0]): pomS = pomS + povm[n]\n",
    "    Gop = sa.pinv(sa.fractional_matrix_power(pomS,1/2))\n",
    "    while trdist > epsilon and k<stop:\n",
    "        R = zeros([dim,dim], complex)\n",
    "        prob = probdists(rho,povm)\n",
    "        for i in range(shape(povm)[0]):\n",
    "            if data[i]>10**(-10):\n",
    "                R += data[i]/prob[i]*povm[i]\n",
    "        rhonew = dot(dot(Gop,dot(R,rho)),dot(R,Gop))\n",
    "        rhonew = rhonew/trace(rhonew)\n",
    "        trdist = trace(dot((rho-rhonew),(rho-rhonew)))\n",
    "        rho = rhonew\n",
    "        k+=1\n",
    "    return rho\n",
    "\n",
    "def HSdist(A,B):\n",
    "    return trace((A-B)@(A.conjugate().transpose()-B.conjugate().transpose()))"
   ]
  },
  {
   "cell_type": "code",
   "execution_count": 187,
   "id": "0a35438a",
   "metadata": {},
   "outputs": [],
   "source": [
    "'''dimension of the Hilbert space that we choose to work in'''\n",
    "\n",
    "dim = 3"
   ]
  },
  {
   "cell_type": "code",
   "execution_count": 188,
   "id": "27dcd990",
   "metadata": {},
   "outputs": [],
   "source": [
    "'''create hermitian basis in a dim-dimensional HS'''\n",
    "\n",
    "Q = herbasis(dim)\n",
    "GAll = gellmann(Q,dim)*sqrt(dim)\n",
    "G = GAll[1::]\n",
    "GAll[0] = identity(dim)"
   ]
  },
  {
   "cell_type": "code",
   "execution_count": 189,
   "id": "373aef52",
   "metadata": {},
   "outputs": [
    {
     "name": "stderr",
     "output_type": "stream",
     "text": [
      "C:\\Users\\Dominik\\AppData\\Local\\Temp\\ipykernel_19704\\1594535297.py:71: ComplexWarning: Casting complex values to real discards the imaginary part\n",
      "  matC[m,n]=trace(pom[m]@G[n])\n"
     ]
    }
   ],
   "source": [
    "'''load random projectors in a given dimension or create your own measurement'''\n",
    "'''however, botch Bloch and Cholesky NNs works only with our prechosen measurement settings'''\n",
    "\n",
    "file=load('measurements/SRMpom'+str(dim**2)+'.npz')\n",
    "pom=file['arr_0']\n",
    "\n",
    "'''generate the masurement matrix C'''\n",
    "cmat = Cmat(pom,GAll)"
   ]
  },
  {
   "cell_type": "code",
   "execution_count": 190,
   "id": "8e4f3003",
   "metadata": {},
   "outputs": [
    {
     "name": "stdout",
     "output_type": "stream",
     "text": [
      "1.0\n"
     ]
    }
   ],
   "source": [
    "'''get a quantum state'''\n",
    "\n",
    "rho = [ randomHS(dim) ]\n",
    "\n",
    "'''get the Cholesky vector and the Bloch parameters'''\n",
    "\n",
    "choV = choFromRho(rho)\n",
    "\n",
    "bL = blochFromRho(rho[0],GAll)/sqrt(dim-1)\n",
    "\n",
    "'''and a corresponding propability distribution'''\n",
    "\n",
    "probsTrue = probdists(rho[0],pom)\n",
    "\n",
    "print(probsTrue.sum())"
   ]
  },
  {
   "cell_type": "code",
   "execution_count": 191,
   "id": "4707e0b1",
   "metadata": {},
   "outputs": [
    {
     "name": "stdout",
     "output_type": "stream",
     "text": [
      "1.0\n"
     ]
    }
   ],
   "source": [
    "'''sample the probability distribution'''\n",
    "\n",
    "nSamples = 500\n",
    "probsExp = random.multinomial(nSamples,probsTrue)/nSamples\n",
    "\n",
    "print(probsExp.sum())"
   ]
  },
  {
   "cell_type": "code",
   "execution_count": 192,
   "id": "dba1ac12",
   "metadata": {},
   "outputs": [],
   "source": [
    "'''choose if you wish to work with a true probability distribution or a sampled one'''\n",
    "\n",
    "# probD = probsTrue\n",
    "probD = probsExp"
   ]
  },
  {
   "cell_type": "code",
   "execution_count": 193,
   "id": "ffd28c8d",
   "metadata": {},
   "outputs": [
    {
     "name": "stdout",
     "output_type": "stream",
     "text": [
      "(0.6533052676575583+0j)\n"
     ]
    }
   ],
   "source": [
    "'''linear inversion'''\n",
    "\n",
    "blochLI = dot(la.pinv(cmat),probD.transpose())\n",
    "\n",
    "rhoLI = rhoFromBlochG(blochLI,GAll)\n",
    "\n",
    "print(HSdist(rho[0], rhoLI))"
   ]
  },
  {
   "cell_type": "code",
   "execution_count": 194,
   "id": "c83a4f79",
   "metadata": {},
   "outputs": [],
   "source": [
    "'''load models'''\n",
    "\n",
    "modelCho = load_model('models/bestModelCho'+str(dim**2)+'.h5')\n",
    "modelBloch = load_model('models/bestModelBloch'+str(dim**2)+'.h5')"
   ]
  },
  {
   "cell_type": "code",
   "execution_count": 195,
   "id": "7be6a86e",
   "metadata": {},
   "outputs": [],
   "source": [
    "'''reshape the probability vector'''\n",
    "\n",
    "x_test = reshape(probD,(1,dim**2))"
   ]
  },
  {
   "cell_type": "code",
   "execution_count": 196,
   "id": "ff7f3852",
   "metadata": {},
   "outputs": [],
   "source": [
    "'''get predictions of the respective representations of the quantum state'''\n",
    "\n",
    "blochPredicted = modelBloch.predict(x = x_test)*sqrt(dim-1)\n",
    "\n",
    "choPredicted = modelCho.predict(x = x_test)"
   ]
  },
  {
   "cell_type": "code",
   "execution_count": 197,
   "id": "918aaa50",
   "metadata": {},
   "outputs": [
    {
     "name": "stdout",
     "output_type": "stream",
     "text": [
      "(0.03304744509757359+0j)\n",
      "(0.2113886562555401+0j)\n"
     ]
    }
   ],
   "source": [
    "'''get the density matrices and calculate the Hilbert Schmidt distance'''\n",
    "\n",
    "rhoB = rhoFromBlochG(blochPredicted[0],GAll)\n",
    "\n",
    "print(HSdist(rhoB,rho[0]))\n",
    "\n",
    "rhoC = rhoFromCho(choPredicted[0])\n",
    "\n",
    "print(HSdist(rhoC,rho[0]))"
   ]
  },
  {
   "cell_type": "code",
   "execution_count": 198,
   "id": "d2c96b7a",
   "metadata": {},
   "outputs": [],
   "source": [
    "'''semi-definite program'''\n",
    "\n",
    "import cvxpy as cp"
   ]
  },
  {
   "cell_type": "code",
   "execution_count": 199,
   "id": "610f3ce3",
   "metadata": {},
   "outputs": [],
   "source": [
    "x = cp.Variable(dim**2)\n",
    "constraints = [rhoFromBlochG(x,GAll)>>0]\n",
    "constraints += [cp.trace(rhoFromBlochG(x,GAll))==1]\n",
    "prob = cp.Problem(cp.Minimize(cp.sum_squares((cmat@x)-probD)),constraints)\n",
    "prob.solve()\n",
    "solSDP = x.value"
   ]
  },
  {
   "cell_type": "code",
   "execution_count": 200,
   "id": "5164c891",
   "metadata": {},
   "outputs": [
    {
     "name": "stdout",
     "output_type": "stream",
     "text": [
      "(0.06439552885315726+0j)\n"
     ]
    }
   ],
   "source": [
    "'''prediction made by a semi-definite program'''\n",
    "\n",
    "rhoSDP = rhoFromBlochG(solSDP, GAll)\n",
    "\n",
    "print(HSdist(rhoSDP,rho[0]))"
   ]
  },
  {
   "cell_type": "code",
   "execution_count": 201,
   "id": "d96e4af0",
   "metadata": {},
   "outputs": [
    {
     "name": "stdout",
     "output_type": "stream",
     "text": [
      "(0.049451839403573034+0j)\n"
     ]
    }
   ],
   "source": [
    "'''maximum likelihood method'''\n",
    "\n",
    "rhoML = MLalg(probD,identity(dim)/dim,pom,10**(-14),10**5)\n",
    "\n",
    "print(HSdist(rhoML,rho[0]))"
   ]
  },
  {
   "cell_type": "code",
   "execution_count": 202,
   "id": "e48d1022",
   "metadata": {},
   "outputs": [
    {
     "name": "stdout",
     "output_type": "stream",
     "text": [
      "the HS distance between true and estimated QS by a LI (0.6533052676575583+0j)\n",
      "--------------------------------------------- by a Bloch NN (0.03304744509757359+0j)\n",
      "--------------------------------------------- by a Cholesky NN (0.2113886562555401+0j)\n",
      "--------------------------------------------- by a SDP (0.06439552885315726+0j)\n",
      "--------------------------------------------- by a ML (0.049451839403573034+0j)\n"
     ]
    }
   ],
   "source": [
    "'''comparision of errors'''\n",
    "\n",
    "print(\"the HS distance between true and estimated QS by a LI\", HSdist( rho[0], rhoLI))\n",
    "print(\"--------------------------------------------- by a Bloch NN\", HSdist( rho[0], rhoB))\n",
    "print(\"--------------------------------------------- by a Cholesky NN\", HSdist( rho[0], rhoC))\n",
    "print(\"--------------------------------------------- by a SDP\", HSdist( rho[0], rhoSDP))\n",
    "print(\"--------------------------------------------- by a ML\", HSdist( rho[0], rhoML))\n"
   ]
  },
  {
   "cell_type": "code",
   "execution_count": null,
   "id": "17872031",
   "metadata": {},
   "outputs": [],
   "source": []
  }
 ],
 "metadata": {
  "kernelspec": {
   "display_name": "Python 3 (ipykernel)",
   "language": "python",
   "name": "python3"
  },
  "language_info": {
   "codemirror_mode": {
    "name": "ipython",
    "version": 3
   },
   "file_extension": ".py",
   "mimetype": "text/x-python",
   "name": "python",
   "nbconvert_exporter": "python",
   "pygments_lexer": "ipython3",
   "version": "3.9.12"
  }
 },
 "nbformat": 4,
 "nbformat_minor": 5
}
